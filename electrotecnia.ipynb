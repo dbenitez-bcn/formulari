{
 "cells": [
  {
   "cell_type": "markdown",
   "metadata": {},
   "source": [
    "## Fuerza de atracción/repulsión\n",
    "> Fórmula para calcular la fuerza vectorial entre dos cargas\n",
    "\n",
    "**Letra:** $\\vec{F}$\n",
    "\n",
    "**Magnitud:** Newtowns(N)\n",
    "\n",
    "\\begin{equation}\n",
    "\\vec{F} = K\\frac{QQ'}{r^2}\n",
    "\\end{equation}\n",
    "\n",
    "- [$K$](https://es.wikipedia.org/wiki/Constante_de_Coulomb) &rarr; Constante eléctrica($\\frac{Nm^2}{C}$)\n",
    "- $Q$ &rarr; Carga eléctrica(C)\n",
    "- $r$ &rarr; Distáncia entre cargas(m)"
   ]
  },
  {
   "cell_type": "code",
   "execution_count": 1,
   "metadata": {},
   "outputs": [
    {
     "name": "stdout",
     "output_type": "stream",
     "text": [
      "15749.999999999995 N\n"
     ]
    }
   ],
   "source": [
    "# Valores\n",
    "K = 9*(10**9)\n",
    "Q = 20*(10**-6)\n",
    "Q2 = 35*(10**-6)\n",
    "r = 0.02\n",
    "\n",
    "# Fórmula\n",
    "F = (K*Q*Q2)/(r**2)\n",
    "\n",
    "# Resultado\n",
    "print(str(F) + \" N\")"
   ]
  },
  {
   "cell_type": "markdown",
   "metadata": {},
   "source": [
    "---"
   ]
  },
  {
   "cell_type": "markdown",
   "metadata": {},
   "source": [
    "## Intensidad del campo eléctrico \n",
    "> Formula para calcular la intensidad que produce el campo electrico de una carga\n",
    "\n",
    "**Letra:** $\\vec{E}$\n",
    "\n",
    "**Magnitud:** Newtowns por coulombs($\\frac{N}{C}$)\n",
    "\n",
    "\\begin{equation}\n",
    "\\vec{E} = K \\frac{Q}{r^2}\n",
    "\\end{equation}\n",
    "\n",
    "- [$K$](https://es.wikipedia.org/wiki/Constante_de_Coulomb) &rarr; Constante eléctrica($\\frac{Nm^2}{C}$)\n",
    "- $Q$ &rarr; Carga eléctrica(C)\n",
    "- $r$ &rarr; Distáncia entre cargas(m)\n"
   ]
  },
  {
   "cell_type": "code",
   "execution_count": 2,
   "metadata": {},
   "outputs": [
    {
     "name": "stdout",
     "output_type": "stream",
     "text": [
      "67500000.0 N/C\n"
     ]
    }
   ],
   "source": [
    "# Valores\n",
    "K = 9*(10**9)\n",
    "Q = 3*(10**-6)\n",
    "r = 0.02\n",
    "\n",
    "# Fórmula\n",
    "E = (K*Q)/(r**2)\n",
    "\n",
    "# Resultado\n",
    "print(str(E) + \" N/C\")"
   ]
  },
  {
   "cell_type": "markdown",
   "metadata": {},
   "source": [
    "---"
   ]
  },
  {
   "cell_type": "markdown",
   "metadata": {},
   "source": [
    "## Energia potencial eléctrica\n",
    "> Fórmula para calcular la fuerza vectorial entre dos cargas\n",
    "\n",
    "**Letra:** $E_p$\n",
    "\n",
    "**Magnitud:** Joules(J)\n",
    "\n",
    "\\begin{equation}\n",
    "E_p = EQ'r\n",
    "\\end{equation}\n",
    "\n",
    "- $E$ &rarr; Intensidad del campo eléctrico($\\frac{N}{C}$)\n",
    "- $Q$ &rarr; Carga eléctrica(C)\n",
    "- $r$ &rarr; Distáncia entre cargas(m)"
   ]
  },
  {
   "cell_type": "code",
   "execution_count": 3,
   "metadata": {},
   "outputs": [
    {
     "name": "stdout",
     "output_type": "stream",
     "text": [
      "0.0020250000000000003 J\n"
     ]
    }
   ],
   "source": [
    "# Valores\n",
    "E = 16875\n",
    "Q = 3*(10**-6)\n",
    "r = 0.04\n",
    "\n",
    "# Fórmula\n",
    "Ep = E*Q*r\n",
    "\n",
    "# Resultado\n",
    "print(str(Ep) + \" J\")"
   ]
  },
  {
   "cell_type": "markdown",
   "metadata": {},
   "source": [
    "---"
   ]
  },
  {
   "cell_type": "markdown",
   "metadata": {},
   "source": [
    "## Potencial eléctrico\n",
    "> Fórmula para calcular el potencial electrico que tiene una carga\n",
    "\n",
    "**Letra:** $V_a$\n",
    "\n",
    "**Magnitud:** Volts(V)\n",
    "\n",
    "\\begin{equation}\n",
    "V_A = \\frac{E_p}{Q'}\n",
    "\\end{equation}\n",
    "\\begin{equation}\n",
    "V_A = Er\n",
    "\\end{equation}\n",
    "\n",
    "- $E$ &rarr; Intensidad del campo eléctrico($\\frac{N}{C}$)\n",
    "- $E_p$ &rarr; ## Energia potencial eléctrica(J)\n",
    "- $Q$ &rarr; Carga eléctrica(C)\n",
    "- $r$ &rarr; Distáncia entre cargas(m)"
   ]
  },
  {
   "cell_type": "markdown",
   "metadata": {},
   "source": [
    "---"
   ]
  },
  {
   "cell_type": "markdown",
   "metadata": {},
   "source": [
    "## Diferencia de potencial eléctrico (ddp)\n",
    "> Fórmula para calcular la diferencia de potencial entre dos cargas\n",
    "\n",
    "**Letra:** $V_A - V_n$\n",
    "\n",
    "**Magnitud:** Volts(V)\n",
    "\n",
    "\\begin{equation}\n",
    "V_A - V_n = \\frac{-\\Delta W}{Q'}\n",
    "\\end{equation}\n",
    "\\begin{equation}\n",
    "V_A - V_n = KQ(\\frac{1}{r_A} - \\frac{1}{r_B})\n",
    "\\end{equation}\n",
    "\n",
    "- $-\\Delta W$ &rarr; $E_p$ Energia potencial eléctrica con el signo cambiado(J) \n",
    "- [$K$](https://es.wikipedia.org/wiki/Constante_de_Coulomb) &rarr; Constante eléctrica($\\frac{Nm^2}{C}$)\n",
    "- $Q$ &rarr; Carga eléctrica(C)\n",
    "- $r$ &rarr; Distáncia entre cargas(m)"
   ]
  },
  {
   "cell_type": "markdown",
   "metadata": {},
   "source": [
    "---"
   ]
  },
  {
   "cell_type": "markdown",
   "metadata": {},
   "source": [
    "## Intensidad del coriente eléctrico\n",
    "> Fórmula para calcular la cantidad de carga eléctrica que pasa por una sección transversal de un cable por la unidad de tiempo.\n",
    "\n",
    "**Letra:** $I$\n",
    "\n",
    "**Magnitud:** Amperes(A)\n",
    "\n",
    "\\begin{equation}\n",
    "I = \\frac{Q}{t}\n",
    "\\end{equation}\n",
    "\n",
    "- $Q$ &rarr; Carga eléctrica(C)\n",
    "- $t$ &rarr; Tiempo(s)"
   ]
  },
  {
   "cell_type": "markdown",
   "metadata": {},
   "source": [
    "---"
   ]
  },
  {
   "cell_type": "markdown",
   "metadata": {},
   "source": [
    "## Fuerza electromotiz\n",
    "> Fórmula para calcular el trabajo realizado por un generador sobre una unidad de carga que lo atraviesa.\n",
    "\n",
    "**Letra:** $\\varepsilon$ o FEM\n",
    "\n",
    "**Magnitud:** Volts(V)\n",
    "\n",
    "\\begin{equation}\n",
    "\\varepsilon = \\frac{W}{Q}\n",
    "\\end{equation}\n",
    "\n",
    "- $W$ &rarr; Trabajo(J)\n",
    "- $Q$ &rarr; Carga eléctrica(C)"
   ]
  },
  {
   "cell_type": "markdown",
   "metadata": {},
   "source": [
    "---"
   ]
  },
  {
   "cell_type": "markdown",
   "metadata": {},
   "source": [
    "## Resistencia electrica\n",
    "> Fórmula para calcular la resistencia eléctrica que va a ejercer un cable segun su material\n",
    "\n",
    "**Letra:** $R$\n",
    "\n",
    "**Magnitud:** Ohms($\\Omega$)\n",
    "\n",
    "\\begin{equation}\n",
    "R = \\rho \\frac{\\iota}{S}\n",
    "\\end{equation}\n",
    "\n",
    "- [$\\rho$](https://es.wikipedia.org/wiki/Resistividad#Tabla_de_resistividades_de_algunos_materiales) &rarr; Resistividad electrica del material($\\Omega m$)\n",
    "- $\\iota$ &rarr; Longitud(m)\n",
    "- $S$ &rarr; Area de la sección del cable($m^2$)"
   ]
  }
 ],
 "metadata": {
  "interpreter": {
   "hash": "6b2ed07406f43fefe29d7e6a5344fe55f2939fdcf75c25060c3ecc711fe31b42"
  },
  "kernelspec": {
   "display_name": "Python 3.9.7 ('base')",
   "language": "python",
   "name": "python3"
  },
  "language_info": {
   "codemirror_mode": {
    "name": "ipython",
    "version": 3
   },
   "file_extension": ".py",
   "mimetype": "text/x-python",
   "name": "python",
   "nbconvert_exporter": "python",
   "pygments_lexer": "ipython3",
   "version": "3.9.7"
  },
  "orig_nbformat": 4
 },
 "nbformat": 4,
 "nbformat_minor": 2
}
