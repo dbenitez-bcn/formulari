{
 "cells": [
  {
   "cell_type": "markdown",
   "metadata": {},
   "source": [
    "\n",
    "# Fuerza de atracción/repulsión\n",
    "### Fórmula para calcular la fuerza vectorial entre dos cargas\n",
    "\n",
    "**Letra:** $\\vec{F}$\n",
    "\n",
    "**Magnitud:** Newtowns(N)\n",
    "\n",
    "\\begin{equation}\n",
    "\\vec{F} = K\\frac{QQ'}{r^2}\n",
    "\\end{equation}\n",
    "\n",
    "- [K](https://linkTo.formula) &rarr; Constante eléctrica($\\frac{Nm^2}{C}$)\n"
   ]
  }
 ],
 "metadata": {
  "language_info": {
   "name": "python"
  },
  "orig_nbformat": 4
 },
 "nbformat": 4,
 "nbformat_minor": 2
}
