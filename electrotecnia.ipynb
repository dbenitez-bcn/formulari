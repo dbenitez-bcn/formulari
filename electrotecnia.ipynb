{
 "cells": [
  {
   "cell_type": "markdown",
   "metadata": {},
   "source": [
    "\n",
    "## Fuerza de atracción/repulsión\n",
    "> Fórmula para calcular la fuerza vectorial entre dos cargas\n",
    "\n",
    "**Letra:** $\\vec{F}$\n",
    "\n",
    "**Magnitud:** Newtowns(N)\n",
    "\n",
    "\\begin{equation}\n",
    "\\vec{F} = K\\frac{QQ'}{r^2}\n",
    "\\end{equation}\n",
    "\n",
    "- [K](https://es.wikipedia.org/wiki/Constante_de_Coulomb) &rarr; Constante eléctrica($\\frac{Nm^2}{C}$)\n",
    "- Q &rarr; Carga eléctrica(C)\n",
    "- r &rarr; Distáncia entre cargas(m)"
   ]
  },
  {
   "cell_type": "code",
   "execution_count": 4,
   "metadata": {},
   "outputs": [
    {
     "name": "stdout",
     "output_type": "stream",
     "text": [
      "157.49999999999994 N\n"
     ]
    }
   ],
   "source": [
    "# Valores\n",
    "K = 9*(10**9)\n",
    "Q = 20*(10**-6)\n",
    "Q2 = 35*(10**-6)\n",
    "r = 0.04\n",
    "\n",
    "# Fórmula\n",
    "F = (K*Q*Q2)/r\n",
    "\n",
    "# Resultado\n",
    "print(str(F) + \" N\")"
   ]
  },
  {
   "cell_type": "markdown",
   "metadata": {},
   "source": [
    "---"
   ]
  },
  {
   "cell_type": "markdown",
   "metadata": {},
   "source": [
    "\n",
    "## Intensidad del campo eléctrico\n",
    "> Formula para calcular la intensidad que produce el campo electrico de una carga\n",
    "\n",
    "**Letra:** $\\vec{E}$\n",
    "\n",
    "**Magnitud:** Newtowns por coulombs($\\frac{N}{C}$)\n",
    "\n",
    "\\begin{equation}\n",
    "\\vec{E} = K \\frac{Q}{r^2}\n",
    "\\end{equation}\n",
    "\n",
    "- [K](https://es.wikipedia.org/wiki/Constante_de_Coulomb) &rarr; Constante eléctrica($\\frac{Nm^2}{C}$)\n",
    "- Q &rarr; Carga eléctrica(C)\n",
    "- r &rarr; Distáncia entre cargas(m)\n"
   ]
  },
  {
   "cell_type": "code",
   "execution_count": 5,
   "metadata": {},
   "outputs": [
    {
     "name": "stdout",
     "output_type": "stream",
     "text": [
      "23.625 N/C\n"
     ]
    }
   ],
   "source": [
    "# Valores\n",
    "K = 9*(10**9)\n",
    "Q = 3*(10**-6)\n",
    "r = 0.04\n",
    "\n",
    "# Fórmula\n",
    "E = (K*Q*Q2)/r\n",
    "\n",
    "# Resultado\n",
    "print(str(E) + \" N/C\")"
   ]
  }
 ],
 "metadata": {
  "interpreter": {
   "hash": "6b2ed07406f43fefe29d7e6a5344fe55f2939fdcf75c25060c3ecc711fe31b42"
  },
  "kernelspec": {
   "display_name": "Python 3.9.7 ('base')",
   "language": "python",
   "name": "python3"
  },
  "language_info": {
   "codemirror_mode": {
    "name": "ipython",
    "version": 3
   },
   "file_extension": ".py",
   "mimetype": "text/x-python",
   "name": "python",
   "nbconvert_exporter": "python",
   "pygments_lexer": "ipython3",
   "version": "3.9.7"
  },
  "orig_nbformat": 4
 },
 "nbformat": 4,
 "nbformat_minor": 2
}
